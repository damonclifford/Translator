{
  "nbformat": 4,
  "nbformat_minor": 0,
  "metadata": {
    "colab": {
      "name": "Translation.ipynb",
      "provenance": [],
      "collapsed_sections": []
    },
    "kernelspec": {
      "name": "python3",
      "display_name": "Python 3"
    },
    "accelerator": "GPU"
  },
  "cells": [
    {
      "cell_type": "markdown",
      "metadata": {
        "id": "zHyDPB2BeuMq",
        "colab_type": "text"
      },
      "source": [
        "https://www.analyticsvidhya.com/blog/2019/01/neural-machine-translation-keras/"
      ]
    },
    {
      "cell_type": "code",
      "metadata": {
        "id": "an0MgnMpYf1d",
        "colab_type": "code",
        "colab": {
          "base_uri": "https://localhost:8080/",
          "height": 34
        },
        "outputId": "dc9dcdbe-af26-4d73-b4f4-a72a872e3a15"
      },
      "source": [
        "import string\n",
        "import re\n",
        "from numpy import array, argmax, random, take\n",
        "import pandas as pd\n",
        "from keras.models import Sequential\n",
        "from keras.layers import Dense, LSTM, Embedding, RepeatVector\n",
        "from keras.preprocessing.text import Tokenizer\n",
        "from keras.callbacks import ModelCheckpoint\n",
        "from keras.preprocessing.sequence import pad_sequences\n",
        "from keras.models import load_model\n",
        "from keras import optimizers\n",
        "import matplotlib.pyplot as plt\n",
        "pd.set_option('display.max_colwidth', 200)"
      ],
      "execution_count": 1,
      "outputs": [
        {
          "output_type": "stream",
          "text": [
            "Using TensorFlow backend.\n"
          ],
          "name": "stderr"
        }
      ]
    },
    {
      "cell_type": "code",
      "metadata": {
        "id": "zfTtjyiJYk1w",
        "colab_type": "code",
        "colab": {}
      },
      "source": [
        "def read_text(filename):\n",
        "        # open the file\n",
        "        file = open(filename, mode='rt', encoding='utf-8')\n",
        "        \n",
        "        # read all text\n",
        "        text = file.read()\n",
        "        file.close()\n",
        "        return text"
      ],
      "execution_count": 2,
      "outputs": []
    },
    {
      "cell_type": "code",
      "metadata": {
        "id": "zaZNTKpUY-7_",
        "colab_type": "code",
        "colab": {}
      },
      "source": [
        "def to_lines(text):\n",
        "      sents = text.strip().split('\\n')\n",
        "      sents = [i.split('\\t') for i in sents]\n",
        "      return sents"
      ],
      "execution_count": 3,
      "outputs": []
    },
    {
      "cell_type": "code",
      "metadata": {
        "id": "tZAKkfiZY_Bi",
        "colab_type": "code",
        "colab": {}
      },
      "source": [
        "data = read_text(\"deu.txt\")\n",
        "deu_eng = to_lines(data)\n",
        "deu_eng = array(deu_eng)"
      ],
      "execution_count": 4,
      "outputs": []
    },
    {
      "cell_type": "code",
      "metadata": {
        "id": "Nx9oNydJY-4a",
        "colab_type": "code",
        "colab": {}
      },
      "source": [
        "deu_eng = deu_eng[:50000,:2]"
      ],
      "execution_count": 5,
      "outputs": []
    },
    {
      "cell_type": "code",
      "metadata": {
        "id": "CAFCqp5daM1k",
        "colab_type": "code",
        "colab": {
          "base_uri": "https://localhost:8080/",
          "height": 153
        },
        "outputId": "89248cb6-09cd-4469-cfa8-112d8c608a72"
      },
      "source": [
        "deu_eng"
      ],
      "execution_count": 6,
      "outputs": [
        {
          "output_type": "execute_result",
          "data": {
            "text/plain": [
              "array([['Go.', 'Geh.'],\n",
              "       ['Hi.', 'Hallo!'],\n",
              "       ['Hi.', 'Grüß Gott!'],\n",
              "       ...,\n",
              "       ['They come from Sweden.', 'Sie kommen aus Schweden.'],\n",
              "       ['They could hardly see.', 'Sie konnten kaum etwas sehen.'],\n",
              "       [\"They didn't choose me.\", 'Sie wählten mich nicht.']],\n",
              "      dtype='<U537')"
            ]
          },
          "metadata": {
            "tags": []
          },
          "execution_count": 6
        }
      ]
    },
    {
      "cell_type": "markdown",
      "metadata": {
        "id": "6dq1zd8Zaa_b",
        "colab_type": "text"
      },
      "source": [
        "Text Preprocessing"
      ]
    },
    {
      "cell_type": "code",
      "metadata": {
        "id": "-dKzmeM9aPZj",
        "colab_type": "code",
        "colab": {
          "base_uri": "https://localhost:8080/",
          "height": 136
        },
        "outputId": "30e43517-2265-4f72-c9da-5503149e2148"
      },
      "source": [
        "deu_eng[:,0] = [s.translate(str.maketrans('', '', string.punctuation)) for s in deu_eng[:,0]]\n",
        "deu_eng[:,1] = [s.translate(str.maketrans('', '', string.punctuation)) for s in deu_eng[:,1]]\n",
        "\n",
        "deu_eng"
      ],
      "execution_count": 7,
      "outputs": [
        {
          "output_type": "execute_result",
          "data": {
            "text/plain": [
              "array([['Go', 'Geh'],\n",
              "       ['Hi', 'Hallo'],\n",
              "       ['Hi', 'Grüß Gott'],\n",
              "       ...,\n",
              "       ['They come from Sweden', 'Sie kommen aus Schweden'],\n",
              "       ['They could hardly see', 'Sie konnten kaum etwas sehen'],\n",
              "       ['They didnt choose me', 'Sie wählten mich nicht']], dtype='<U537')"
            ]
          },
          "metadata": {
            "tags": []
          },
          "execution_count": 7
        }
      ]
    },
    {
      "cell_type": "code",
      "metadata": {
        "id": "FuKj9DBDafpi",
        "colab_type": "code",
        "colab": {
          "base_uri": "https://localhost:8080/",
          "height": 136
        },
        "outputId": "669011a4-839c-4c7b-c707-578a05ab9a97"
      },
      "source": [
        "for i in range(len(deu_eng)):\n",
        "    deu_eng[i,0] = deu_eng[i,0].lower()\n",
        "    deu_eng[i,1] = deu_eng[i,1].lower()\n",
        "\n",
        "deu_eng"
      ],
      "execution_count": 8,
      "outputs": [
        {
          "output_type": "execute_result",
          "data": {
            "text/plain": [
              "array([['go', 'geh'],\n",
              "       ['hi', 'hallo'],\n",
              "       ['hi', 'grüß gott'],\n",
              "       ...,\n",
              "       ['they come from sweden', 'sie kommen aus schweden'],\n",
              "       ['they could hardly see', 'sie konnten kaum etwas sehen'],\n",
              "       ['they didnt choose me', 'sie wählten mich nicht']], dtype='<U537')"
            ]
          },
          "metadata": {
            "tags": []
          },
          "execution_count": 8
        }
      ]
    },
    {
      "cell_type": "code",
      "metadata": {
        "id": "8uC-WQRNai4j",
        "colab_type": "code",
        "colab": {
          "base_uri": "https://localhost:8080/",
          "height": 281
        },
        "outputId": "ee0ad95d-07f9-4ad3-921e-c121f7739369"
      },
      "source": [
        "# empty lists\n",
        "eng_l = []\n",
        "deu_l = []\n",
        "\n",
        "# populate the lists with sentence lengths\n",
        "for i in deu_eng[:,0]:\n",
        "      eng_l.append(len(i.split()))\n",
        "\n",
        "for i in deu_eng[:,1]:\n",
        "      deu_l.append(len(i.split()))\n",
        "\n",
        "length_df = pd.DataFrame({'eng':eng_l, 'deu':deu_l})\n",
        "\n",
        "length_df.hist(bins = 30)\n",
        "plt.show()"
      ],
      "execution_count": 9,
      "outputs": [
        {
          "output_type": "display_data",
          "data": {
            "image/png": "[encoded data removed]",
            "text/plain": [
              "<Figure size 432x288 with 2 Axes>"
            ]
          },
          "metadata": {
            "tags": [],
            "needs_background": "light"
          }
        }
      ]
    },
    {
      "cell_type": "code",
      "metadata": {
        "id": "laUVNhhTamox",
        "colab_type": "code",
        "colab": {}
      },
      "source": [
        "def tokenization(lines):\n",
        "      tokenizer = Tokenizer()\n",
        "      tokenizer.fit_on_texts(lines)\n",
        "      return tokenizer"
      ],
      "execution_count": 10,
      "outputs": []
    },
    {
      "cell_type": "code",
      "metadata": {
        "id": "dyF-aatsaph6",
        "colab_type": "code",
        "colab": {
          "base_uri": "https://localhost:8080/",
          "height": 34
        },
        "outputId": "3d76f28c-baca-4acc-8c45-506c4ccb1f0f"
      },
      "source": [
        "# prepare english tokenizer\n",
        "eng_tokenizer = tokenization(deu_eng[:, 0])\n",
        "eng_vocab_size = len(eng_tokenizer.word_index) + 1\n",
        "\n",
        "eng_length = 8\n",
        "print('English Vocabulary Size: %d' % eng_vocab_size)"
      ],
      "execution_count": 11,
      "outputs": [
        {
          "output_type": "stream",
          "text": [
            "English Vocabulary Size: 6295\n"
          ],
          "name": "stdout"
        }
      ]
    },
    {
      "cell_type": "code",
      "metadata": {
        "id": "z5C59Fy4arj9",
        "colab_type": "code",
        "colab": {
          "base_uri": "https://localhost:8080/",
          "height": 34
        },
        "outputId": "d842369b-6647-4822-f850-558de67bab84"
      },
      "source": [
        "# prepare Deutch tokenizer\n",
        "deu_tokenizer = tokenization(deu_eng[:, 1])\n",
        "deu_vocab_size = len(deu_tokenizer.word_index) + 1\n",
        "\n",
        "deu_length = 8\n",
        "print('Deutch Vocabulary Size: %d' % deu_vocab_size)"
      ],
      "execution_count": 12,
      "outputs": [
        {
          "output_type": "stream",
          "text": [
            "Deutch Vocabulary Size: 10401\n"
          ],
          "name": "stdout"
        }
      ]
    },
    {
      "cell_type": "code",
      "metadata": {
        "id": "DlEUtsYYavKQ",
        "colab_type": "code",
        "colab": {}
      },
      "source": [
        "def encode_sequences(tokenizer, length, lines):\n",
        "         # integer encode sequences\n",
        "         seq = tokenizer.texts_to_sequences(lines)\n",
        "         # pad sequences with 0 values\n",
        "         seq = pad_sequences(seq, maxlen=length, padding='post')\n",
        "         return seq"
      ],
      "execution_count": 13,
      "outputs": []
    },
    {
      "cell_type": "code",
      "metadata": {
        "id": "7i0pgvZ8axwo",
        "colab_type": "code",
        "colab": {}
      },
      "source": [
        "from sklearn.model_selection import train_test_split\n",
        "\n",
        "# split data into train and test set\n",
        "train, test = train_test_split(deu_eng, test_size=0.2, random_state = 12)"
      ],
      "execution_count": 14,
      "outputs": []
    },
    {
      "cell_type": "code",
      "metadata": {
        "id": "9U49OHJJaz4Q",
        "colab_type": "code",
        "colab": {}
      },
      "source": [
        "# prepare training data\n",
        "trainX = encode_sequences(deu_tokenizer, deu_length, train[:, 1])\n",
        "trainY = encode_sequences(eng_tokenizer, eng_length, train[:, 0])\n",
        "\n",
        "# prepare validation data\n",
        "testX = encode_sequences(deu_tokenizer, deu_length, test[:, 1])\n",
        "testY = encode_sequences(eng_tokenizer, eng_length, test[:, 0])"
      ],
      "execution_count": 15,
      "outputs": []
    },
    {
      "cell_type": "code",
      "metadata": {
        "id": "PIKti6dsa38z",
        "colab_type": "code",
        "colab": {}
      },
      "source": [
        "# build NMT model\n",
        "def define_model(in_vocab,out_vocab, in_timesteps,out_timesteps,units):\n",
        "      model = Sequential()\n",
        "      model.add(Embedding(in_vocab, units, input_length=in_timesteps, mask_zero=True))\n",
        "      model.add(LSTM(units))\n",
        "      model.add(RepeatVector(out_timesteps))\n",
        "      model.add(LSTM(units, return_sequences=True))\n",
        "      model.add(Dense(out_vocab, activation='softmax'))\n",
        "      return model"
      ],
      "execution_count": 16,
      "outputs": []
    },
    {
      "cell_type": "code",
      "metadata": {
        "id": "k5_YTQL8a7bC",
        "colab_type": "code",
        "colab": {}
      },
      "source": [
        "# model compilation\n",
        "model = define_model(deu_vocab_size, eng_vocab_size, deu_length, eng_length, 512)\n",
        "\n",
        "rms = optimizers.RMSprop(lr=0.001)\n",
        "model.compile(optimizer=rms, loss='sparse_categorical_crossentropy')"
      ],
      "execution_count": 17,
      "outputs": []
    },
    {
      "cell_type": "code",
      "metadata": {
        "id": "zDEo7sbxbAKh",
        "colab_type": "code",
        "colab": {
          "base_uri": "https://localhost:8080/",
          "height": 1000
        },
        "outputId": "73289065-39bc-4704-df25-0fb9eeb34c2d"
      },
      "source": [
        "filename = 'model.h1.24_jan_19'\n",
        "checkpoint = ModelCheckpoint(filename, monitor='val_loss', verbose=1, save_best_only=True, mode='min')\n",
        "\n",
        "# train model\n",
        "history = model.fit(trainX, trainY.reshape(trainY.shape[0], trainY.shape[1], 1),\n",
        "                    epochs=30, batch_size=512, validation_split = 0.2,callbacks=[checkpoint], \n",
        "                    verbose=1)"
      ],
      "execution_count": 18,
      "outputs": [
        {
          "output_type": "stream",
          "text": [
            "/usr/local/lib/python3.6/dist-packages/tensorflow/python/framework/indexed_slices.py:434: UserWarning: Converting sparse IndexedSlices to a dense Tensor of unknown shape. This may consume a large amount of memory.\n",
            "  \"Converting sparse IndexedSlices to a dense Tensor of unknown shape. \"\n"
          ],
          "name": "stderr"
        },
        {
          "output_type": "stream",
          "text": [
            "Train on 32000 samples, validate on 8000 samples\n",
            "Epoch 1/30\n",
            "32000/32000 [==============================] - 9s 293us/step - loss: 3.4309 - val_loss: 2.9098\n",
            "\n",
            "Epoch 00001: val_loss improved from inf to 2.90978, saving model to model.h1.24_jan_19\n",
            "Epoch 2/30\n",
            "32000/32000 [==============================] - 7s 222us/step - loss: 2.7888 - val_loss: 2.7457\n",
            "\n",
            "Epoch 00002: val_loss improved from 2.90978 to 2.74568, saving model to model.h1.24_jan_19\n",
            "Epoch 3/30\n",
            "32000/32000 [==============================] - 7s 222us/step - loss: 2.6068 - val_loss: 2.5958\n",
            "\n",
            "Epoch 00003: val_loss improved from 2.74568 to 2.59583, saving model to model.h1.24_jan_19\n",
            "Epoch 4/30\n",
            "32000/32000 [==============================] - 7s 221us/step - loss: 2.4505 - val_loss: 2.4851\n",
            "\n",
            "Epoch 00004: val_loss improved from 2.59583 to 2.48508, saving model to model.h1.24_jan_19\n",
            "Epoch 5/30\n",
            "32000/32000 [==============================] - 7s 222us/step - loss: 2.3065 - val_loss: 2.3808\n",
            "\n",
            "Epoch 00005: val_loss improved from 2.48508 to 2.38084, saving model to model.h1.24_jan_19\n",
            "Epoch 6/30\n",
            "32000/32000 [==============================] - 7s 223us/step - loss: 2.1707 - val_loss: 2.2683\n",
            "\n",
            "Epoch 00006: val_loss improved from 2.38084 to 2.26833, saving model to model.h1.24_jan_19\n",
            "Epoch 7/30\n",
            "32000/32000 [==============================] - 7s 223us/step - loss: 2.0487 - val_loss: 2.1698\n",
            "\n",
            "Epoch 00007: val_loss improved from 2.26833 to 2.16983, saving model to model.h1.24_jan_19\n",
            "Epoch 8/30\n",
            "32000/32000 [==============================] - 7s 225us/step - loss: 1.9362 - val_loss: 2.0727\n",
            "\n",
            "Epoch 00008: val_loss improved from 2.16983 to 2.07270, saving model to model.h1.24_jan_19\n",
            "Epoch 9/30\n",
            "32000/32000 [==============================] - 7s 226us/step - loss: 1.8277 - val_loss: 1.9980\n",
            "\n",
            "Epoch 00009: val_loss improved from 2.07270 to 1.99803, saving model to model.h1.24_jan_19\n",
            "Epoch 10/30\n",
            "32000/32000 [==============================] - 7s 226us/step - loss: 1.7236 - val_loss: 1.9420\n",
            "\n",
            "Epoch 00010: val_loss improved from 1.99803 to 1.94200, saving model to model.h1.24_jan_19\n",
            "Epoch 11/30\n",
            "32000/32000 [==============================] - 7s 225us/step - loss: 1.6223 - val_loss: 1.8674\n",
            "\n",
            "Epoch 00011: val_loss improved from 1.94200 to 1.86736, saving model to model.h1.24_jan_19\n",
            "Epoch 12/30\n",
            "32000/32000 [==============================] - 7s 225us/step - loss: 1.5278 - val_loss: 1.8087\n",
            "\n",
            "Epoch 00012: val_loss improved from 1.86736 to 1.80868, saving model to model.h1.24_jan_19\n",
            "Epoch 13/30\n",
            "32000/32000 [==============================] - 7s 226us/step - loss: 1.4363 - val_loss: 1.7486\n",
            "\n",
            "Epoch 00013: val_loss improved from 1.80868 to 1.74865, saving model to model.h1.24_jan_19\n",
            "Epoch 14/30\n",
            "32000/32000 [==============================] - 7s 226us/step - loss: 1.3467 - val_loss: 1.6905\n",
            "\n",
            "Epoch 00014: val_loss improved from 1.74865 to 1.69055, saving model to model.h1.24_jan_19\n",
            "Epoch 15/30\n",
            "32000/32000 [==============================] - 7s 228us/step - loss: 1.2645 - val_loss: 1.6622\n",
            "\n",
            "Epoch 00015: val_loss improved from 1.69055 to 1.66217, saving model to model.h1.24_jan_19\n",
            "Epoch 16/30\n",
            "32000/32000 [==============================] - 7s 228us/step - loss: 1.1849 - val_loss: 1.6054\n",
            "\n",
            "Epoch 00016: val_loss improved from 1.66217 to 1.60542, saving model to model.h1.24_jan_19\n",
            "Epoch 17/30\n",
            "32000/32000 [==============================] - 7s 229us/step - loss: 1.1102 - val_loss: 1.5772\n",
            "\n",
            "Epoch 00017: val_loss improved from 1.60542 to 1.57719, saving model to model.h1.24_jan_19\n",
            "Epoch 18/30\n",
            "32000/32000 [==============================] - 7s 228us/step - loss: 1.0364 - val_loss: 1.5407\n",
            "\n",
            "Epoch 00018: val_loss improved from 1.57719 to 1.54068, saving model to model.h1.24_jan_19\n",
            "Epoch 19/30\n",
            "32000/32000 [==============================] - 7s 229us/step - loss: 0.9696 - val_loss: 1.5091\n",
            "\n",
            "Epoch 00019: val_loss improved from 1.54068 to 1.50912, saving model to model.h1.24_jan_19\n",
            "Epoch 20/30\n",
            "32000/32000 [==============================] - 7s 229us/step - loss: 0.9052 - val_loss: 1.4837\n",
            "\n",
            "Epoch 00020: val_loss improved from 1.50912 to 1.48374, saving model to model.h1.24_jan_19\n",
            "Epoch 21/30\n",
            "32000/32000 [==============================] - 7s 228us/step - loss: 0.8432 - val_loss: 1.4571\n",
            "\n",
            "Epoch 00021: val_loss improved from 1.48374 to 1.45707, saving model to model.h1.24_jan_19\n",
            "Epoch 22/30\n",
            "32000/32000 [==============================] - 7s 229us/step - loss: 0.7833 - val_loss: 1.4354\n",
            "\n",
            "Epoch 00022: val_loss improved from 1.45707 to 1.43540, saving model to model.h1.24_jan_19\n",
            "Epoch 23/30\n",
            "32000/32000 [==============================] - 7s 228us/step - loss: 0.7294 - val_loss: 1.4048\n",
            "\n",
            "Epoch 00023: val_loss improved from 1.43540 to 1.40483, saving model to model.h1.24_jan_19\n",
            "Epoch 24/30\n",
            "32000/32000 [==============================] - 7s 230us/step - loss: 0.6740 - val_loss: 1.3941\n",
            "\n",
            "Epoch 00024: val_loss improved from 1.40483 to 1.39408, saving model to model.h1.24_jan_19\n",
            "Epoch 25/30\n",
            "32000/32000 [==============================] - 7s 228us/step - loss: 0.6222 - val_loss: 1.3732\n",
            "\n",
            "Epoch 00025: val_loss improved from 1.39408 to 1.37323, saving model to model.h1.24_jan_19\n",
            "Epoch 26/30\n",
            "32000/32000 [==============================] - 7s 229us/step - loss: 0.5764 - val_loss: 1.3709\n",
            "\n",
            "Epoch 00026: val_loss improved from 1.37323 to 1.37094, saving model to model.h1.24_jan_19\n",
            "Epoch 27/30\n",
            "32000/32000 [==============================] - 7s 231us/step - loss: 0.5297 - val_loss: 1.3610\n",
            "\n",
            "Epoch 00027: val_loss improved from 1.37094 to 1.36105, saving model to model.h1.24_jan_19\n",
            "Epoch 28/30\n",
            "32000/32000 [==============================] - 7s 231us/step - loss: 0.4894 - val_loss: 1.3417\n",
            "\n",
            "Epoch 00028: val_loss improved from 1.36105 to 1.34168, saving model to model.h1.24_jan_19\n",
            "Epoch 29/30\n",
            "32000/32000 [==============================] - 7s 229us/step - loss: 0.4493 - val_loss: 1.3436\n",
            "\n",
            "Epoch 00029: val_loss did not improve from 1.34168\n",
            "Epoch 30/30\n",
            "32000/32000 [==============================] - 7s 230us/step - loss: 0.4134 - val_loss: 1.3258\n",
            "\n",
            "Epoch 00030: val_loss improved from 1.34168 to 1.32575, saving model to model.h1.24_jan_19\n"
          ],
          "name": "stdout"
        }
      ]
    },
    {
      "cell_type": "code",
      "metadata": {
        "id": "7__AyxXdbIeV",
        "colab_type": "code",
        "colab": {
          "base_uri": "https://localhost:8080/",
          "height": 265
        },
        "outputId": "d3455b00-6344-471c-a40f-25d2abf8f8f6"
      },
      "source": [
        "plt.plot(history.history['loss'])\n",
        "plt.plot(history.history['val_loss'])\n",
        "plt.legend(['train','validation'])\n",
        "plt.show()"
      ],
      "execution_count": 19,
      "outputs": [
        {
          "output_type": "display_data",
          "data": {
            "image/png": "[encoded data removed]",
            "text/plain": [
              "<Figure size 432x288 with 1 Axes>"
            ]
          },
          "metadata": {
            "tags": [],
            "needs_background": "light"
          }
        }
      ]
    },
    {
      "cell_type": "code",
      "metadata": {
        "id": "jRnSlRFXd2nz",
        "colab_type": "code",
        "colab": {
          "base_uri": "https://localhost:8080/",
          "height": 71
        },
        "outputId": "a942d63c-869a-47a4-9fe6-70bb3091d71b"
      },
      "source": [
        "model = load_model('model.h1.24_jan_19')\n",
        "preds = model.predict_classes(testX.reshape((testX.shape[0],testX.shape[1])))"
      ],
      "execution_count": 20,
      "outputs": [
        {
          "output_type": "stream",
          "text": [
            "/usr/local/lib/python3.6/dist-packages/tensorflow/python/framework/indexed_slices.py:434: UserWarning: Converting sparse IndexedSlices to a dense Tensor of unknown shape. This may consume a large amount of memory.\n",
            "  \"Converting sparse IndexedSlices to a dense Tensor of unknown shape. \"\n"
          ],
          "name": "stderr"
        }
      ]
    },
    {
      "cell_type": "code",
      "metadata": {
        "id": "Le1sKaBcd231",
        "colab_type": "code",
        "colab": {}
      },
      "source": [
        "def get_word(n, tokenizer):\n",
        "      for word, index in tokenizer.word_index.items():\n",
        "          if index == n:\n",
        "              return word\n",
        "      return None"
      ],
      "execution_count": 21,
      "outputs": []
    },
    {
      "cell_type": "code",
      "metadata": {
        "id": "V3CzqK4Qd8KP",
        "colab_type": "code",
        "colab": {}
      },
      "source": [
        "preds_text = []\n",
        "for i in preds:\n",
        "       temp = []\n",
        "       for j in range(len(i)):\n",
        "            t = get_word(i[j], eng_tokenizer)\n",
        "            if j > 0:\n",
        "                if (t == get_word(i[j-1], eng_tokenizer)) or (t == None):\n",
        "                     temp.append('')\n",
        "                else:\n",
        "                     temp.append(t)\n",
        "            else:\n",
        "                   if(t == None):\n",
        "                          temp.append('')\n",
        "                   else:\n",
        "                          temp.append(t) \n",
        "\n",
        "       preds_text.append(' '.join(temp))"
      ],
      "execution_count": 22,
      "outputs": []
    },
    {
      "cell_type": "code",
      "metadata": {
        "id": "Iy7SqkTad_jR",
        "colab_type": "code",
        "colab": {}
      },
      "source": [
        "pred_df = pd.DataFrame({'actual' : test[:,0], 'predicted' : preds_text})"
      ],
      "execution_count": 23,
      "outputs": []
    },
    {
      "cell_type": "code",
      "metadata": {
        "id": "_f1LTj3AeAN7",
        "colab_type": "code",
        "colab": {
          "base_uri": "https://localhost:8080/",
          "height": 514
        },
        "outputId": "83fa0696-b3bb-48a9-ed5f-acd97057186c"
      },
      "source": [
        "pred_df.sample(15)"
      ],
      "execution_count": 24,
      "outputs": [
        {
          "output_type": "execute_result",
          "data": {
            "text/html": [
              "<div>\n",
              "<style scoped>\n",
              "    .dataframe tbody tr th:only-of-type {\n",
              "        vertical-align: middle;\n",
              "    }\n",
              "\n",
              "    .dataframe tbody tr th {\n",
              "        vertical-align: top;\n",
              "    }\n",
              "\n",
              "    .dataframe thead th {\n",
              "        text-align: right;\n",
              "    }\n",
              "</style>\n",
              "<table border=\"1\" class=\"dataframe\">\n",
              "  <thead>\n",
              "    <tr style=\"text-align: right;\">\n",
              "      <th></th>\n",
              "      <th>actual</th>\n",
              "      <th>predicted</th>\n",
              "    </tr>\n",
              "  </thead>\n",
              "  <tbody>\n",
              "    <tr>\n",
              "      <th>704</th>\n",
              "      <td>i can probably win</td>\n",
              "      <td>i can win</td>\n",
              "    </tr>\n",
              "    <tr>\n",
              "      <th>8556</th>\n",
              "      <td>empty your bags</td>\n",
              "      <td>open your bags</td>\n",
              "    </tr>\n",
              "    <tr>\n",
              "      <th>1501</th>\n",
              "      <td>how is your brother</td>\n",
              "      <td>hows your brother</td>\n",
              "    </tr>\n",
              "    <tr>\n",
              "      <th>3347</th>\n",
              "      <td>tomll know</td>\n",
              "      <td>tom will know</td>\n",
              "    </tr>\n",
              "    <tr>\n",
              "      <th>4774</th>\n",
              "      <td>tom texted mary</td>\n",
              "      <td>tom winked mary</td>\n",
              "    </tr>\n",
              "    <tr>\n",
              "      <th>5696</th>\n",
              "      <td>tom became mute</td>\n",
              "      <td>tom went mute</td>\n",
              "    </tr>\n",
              "    <tr>\n",
              "      <th>3909</th>\n",
              "      <td>our cat is missing</td>\n",
              "      <td>our cat is gone</td>\n",
              "    </tr>\n",
              "    <tr>\n",
              "      <th>6005</th>\n",
              "      <td>i miss it</td>\n",
              "      <td>i me</td>\n",
              "    </tr>\n",
              "    <tr>\n",
              "      <th>237</th>\n",
              "      <td>tom seldom gets sick</td>\n",
              "      <td>tom will be late</td>\n",
              "    </tr>\n",
              "    <tr>\n",
              "      <th>9469</th>\n",
              "      <td>tom isnt afraid</td>\n",
              "      <td>tom doesnt eating</td>\n",
              "    </tr>\n",
              "    <tr>\n",
              "      <th>7165</th>\n",
              "      <td>may i play the piano</td>\n",
              "      <td>may i borrow the truth</td>\n",
              "    </tr>\n",
              "    <tr>\n",
              "      <th>2357</th>\n",
              "      <td>im not going back</td>\n",
              "      <td>im not go there</td>\n",
              "    </tr>\n",
              "    <tr>\n",
              "      <th>6049</th>\n",
              "      <td>am i invited</td>\n",
              "      <td>am i invited</td>\n",
              "    </tr>\n",
              "    <tr>\n",
              "      <th>6736</th>\n",
              "      <td>i think tom is brave</td>\n",
              "      <td>i think tom is</td>\n",
              "    </tr>\n",
              "    <tr>\n",
              "      <th>7291</th>\n",
              "      <td>tom is normal</td>\n",
              "      <td>toms is</td>\n",
              "    </tr>\n",
              "  </tbody>\n",
              "</table>\n",
              "</div>"
            ],
            "text/plain": [
              "                    actual                  predicted\n",
              "704     i can probably win             i can win     \n",
              "8556       empty your bags        open your bags     \n",
              "1501   how is your brother     hows your brother     \n",
              "3347            tomll know         tom will know     \n",
              "4774       tom texted mary       tom winked mary     \n",
              "5696       tom became mute         tom went mute     \n",
              "3909    our cat is missing        our cat is gone    \n",
              "6005             i miss it                 i me      \n",
              "237   tom seldom gets sick       tom will be late    \n",
              "9469       tom isnt afraid     tom doesnt eating     \n",
              "7165  may i play the piano  may i borrow the truth   \n",
              "2357     im not going back        im not go there    \n",
              "6049          am i invited          am i invited     \n",
              "6736  i think tom is brave         i think tom is    \n",
              "7291         tom is normal              toms is      "
            ]
          },
          "metadata": {
            "tags": []
          },
          "execution_count": 24
        }
      ]
    },
    {
      "cell_type": "code",
      "metadata": {
        "id": "yrhfLuFueDKO",
        "colab_type": "code",
        "colab": {}
      },
      "source": [
        "model.predict()"
      ],
      "execution_count": null,
      "outputs": []
    }
  ]
}